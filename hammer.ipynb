{
 "cells": [
  {
   "cell_type": "markdown",
   "metadata": {},
   "source": [
    "### Data processor and shaper of Energy Balance Matrix.\n",
    "\n",
    "> This module integrates the Latin America and Caribbean Energy Balance Matrix and sort out its data in a OSeMOSYS model structure. According to the naming convention used by OSeMOSYS a 3-letter country abbreviation will be adopted in front of the label as followed:\n",
    "\n",
    "    [region][category][sector][fuel/commodity][###]\n",
    "\n",
    "e.g. for \"Crude oil extraction\" kind of technology in \"Argentina\" the generic convention label is: `ARGMINCRU`\n",
    "\n",
    "---\n",
    "Author: Mario R. Peralta. A. <br>\n",
    "School of Electrical Engineering, University of Costa Rica. <br>\n",
    "The Electric Power and Energy Research Laboratory (EPERLab)\n",
    "\n",
    "---\n",
    "\n",
    "\n"
   ]
  },
  {
   "cell_type": "markdown",
   "metadata": {},
   "source": [
    "Example of implementation the `reslac.py` module: Filtering technologies per regions."
   ]
  },
  {
   "cell_type": "code",
   "execution_count": 1,
   "metadata": {},
   "outputs": [],
   "source": [
    "import reslac\n",
    "\n",
    "RES = reslac.EnergyMatrix()\n",
    "techs = RES.data_RES()\n"
   ]
  },
  {
   "cell_type": "markdown",
   "metadata": {},
   "source": [
    "Retrieve input and output fuel to refineries (`REF`) technonoly, throughout contries:"
   ]
  },
  {
   "cell_type": "code",
   "execution_count": 2,
   "metadata": {},
   "outputs": [
    {
     "name": "stdout",
     "output_type": "stream",
     "text": [
      "{'CRU'}\n"
     ]
    }
   ],
   "source": [
    "\"\"\"Input fuels to REF convertion technology.\"\"\"\n",
    "\n",
    "in_refs = [r.in_fuels for r in techs if r.code == \"REF\"]\n",
    "nonzeros = []\n",
    "for fuels in in_refs:\n",
    "    for fuel in fuels:\n",
    "        if fuel.energy_PJ:\n",
    "            nonzeros.append(fuel)\n",
    "\n",
    "codes = set([n.code for n in nonzeros])\n",
    "print(codes)"
   ]
  },
  {
   "cell_type": "code",
   "execution_count": 3,
   "metadata": {},
   "outputs": [
    {
     "name": "stdout",
     "output_type": "stream",
     "text": [
      "{'LPG', 'NEN', 'KER', 'DSL', 'HFO', 'OSE', 'GAS', 'COK', 'GSL'}\n"
     ]
    }
   ],
   "source": [
    "\"\"\"Output fuels to REF convertion technology.\"\"\"\n",
    "\n",
    "out_refs = [r.out_fuels for r in techs if r.code == \"REF\"]\n",
    "nonzeros = []\n",
    "for fuels in out_refs:\n",
    "    for fuel in fuels:\n",
    "        if fuel.energy_PJ:\n",
    "            nonzeros.append(fuel)\n",
    "\n",
    "codes = set([n.code for n in nonzeros])\n",
    "print(codes)"
   ]
  },
  {
   "cell_type": "markdown",
   "metadata": {},
   "source": [
    "Another convertion technology (blast furnace): `BOI`, first input and then output."
   ]
  },
  {
   "cell_type": "code",
   "execution_count": 4,
   "metadata": {},
   "outputs": [
    {
     "name": "stdout",
     "output_type": "stream",
     "text": [
      "{'COA001', 'COK', 'OSE'}\n"
     ]
    }
   ],
   "source": [
    "\"\"\"Input fuels to BOI convertion technology.\"\"\"\n",
    "\n",
    "in_refs = [r.in_fuels for r in techs if r.code == \"BOI\"]\n",
    "nonzeros = []\n",
    "for fuels in in_refs:\n",
    "    for fuel in fuels:\n",
    "        if fuel.energy_PJ:\n",
    "            nonzeros.append(fuel)\n",
    "\n",
    "codes = set([n.code for n in nonzeros])\n",
    "print(codes)"
   ]
  },
  {
   "cell_type": "code",
   "execution_count": 5,
   "metadata": {},
   "outputs": [
    {
     "name": "stdout",
     "output_type": "stream",
     "text": [
      "{'GAS', 'COK', 'NEN', 'OSE'}\n"
     ]
    }
   ],
   "source": [
    "\"\"\"Output fuels to BOI convertion technology.\"\"\"\n",
    "\n",
    "out_refs = [r.out_fuels for r in techs if r.code == \"BOI\"]\n",
    "nonzeros = []\n",
    "for fuels in out_refs:\n",
    "    for fuel in fuels:\n",
    "        if fuel.energy_PJ:\n",
    "            nonzeros.append(fuel)\n",
    "\n",
    "codes = set([n.code for n in nonzeros])\n",
    "print(codes)"
   ]
  },
  {
   "cell_type": "markdown",
   "metadata": {},
   "source": [
    "Initial RES, capacities intances only (Inicialize in zero PJ):"
   ]
  },
  {
   "cell_type": "code",
   "execution_count": 6,
   "metadata": {},
   "outputs": [
    {
     "name": "stdout",
     "output_type": "stream",
     "text": [
      "[(CRU, ARG)]\n",
      "[(COK, ARG), (HFO, ARG), (KER, ARG), (OSE, ARG), (LPG, ARG), (DSL, ARG), (GAS, ARG), (GSL, ARG), (NEN, ARG)]\n"
     ]
    }
   ],
   "source": [
    "import reslac\n",
    "RES = reslac.EnergyMatrix()\n",
    "itecs = RES.initital_RES()\n",
    "iref_arg = [t for t in itecs if t.region == \"ARG\"\n",
    "            and t.code == \"REF\"]\n",
    "print(iref_arg[0].in_fuels)\n",
    "print(iref_arg[0].out_fuels)\n"
   ]
  },
  {
   "cell_type": "markdown",
   "metadata": {},
   "source": [
    "Update fuels flow:"
   ]
  },
  {
   "cell_type": "code",
   "execution_count": 7,
   "metadata": {},
   "outputs": [
    {
     "name": "stdout",
     "output_type": "stream",
     "text": [
      "[(GAS, ARG), (COK, ARG), (NEN, ARG), (COA001, ARG)]\n",
      "[(GAS, ARG), (COK, ARG), (NEN, ARG)]\n",
      "[('In', 'GAS', 0), ('In', 'COK', -28.31549019983542), ('In', 'NEN', 0), ('In', 'COA001', -29.415843701417185), ('Out', 'GAS', 29.09728931340275), ('Out', 'COK', 0), ('Out', 'NEN', 24.056066879955736)]\n"
     ]
    }
   ],
   "source": [
    "import reslac\n",
    "RES = reslac.EnergyMatrix()\n",
    "techs = RES.build_RES()\n",
    "\n",
    "ref_arg = [t for t in techs if t.region == \"ARG\"\n",
    "            and t.code == \"BOI\"]\n",
    "print(ref_arg[0].in_fuels)\n",
    "print(ref_arg[0].out_fuels)\n",
    "\n",
    "vals_PJ = []\n",
    "for f in ref_arg[0].in_fuels:\n",
    "    vals_PJ.append((\"In\", f.code, f.energy_PJ))\n",
    "for f in ref_arg[0].out_fuels:\n",
    "    vals_PJ.append((\"Out\", f.code, f.energy_PJ))\n",
    "\n",
    "print(vals_PJ)"
   ]
  },
  {
   "cell_type": "markdown",
   "metadata": {},
   "source": [
    "Retrieve Hydropower production in Costa Rica: `CRIPROHYD` by two methods:\n",
    "\n",
    "1.  Filter labels base on fuel and technologies naming codes.\n",
    "2. Instantiate objects and then index them from the data structure."
   ]
  },
  {
   "cell_type": "code",
   "execution_count": 8,
   "metadata": {},
   "outputs": [
    {
     "name": "stdout",
     "output_type": "stream",
     "text": [
      "CRIPROHYD:  47.28600280326362 PJ\n"
     ]
    }
   ],
   "source": [
    "\"\"\"Method 1: Filter label.\"\"\"\n",
    "\n",
    "import reslac\n",
    "res = reslac.EnergyMatrix()\n",
    "techs = res.build_RES()\n",
    "\n",
    "# Method 1: Filter code\n",
    "techs_cri = [T for T in techs if T.region == \"CRI\"]\n",
    "for T in techs_cri:\n",
    "    # Filter PRO sector\n",
    "    if T.code == \"PRO\":\n",
    "        fuels = T.out_fuels\n",
    "        for F in fuels:\n",
    "            # Filter HYD fuel\n",
    "            if F.code == \"HYD\":\n",
    "                hyd_energy = F.energy_PJ\n",
    "\n",
    "print(\"CRIPROHYD: \", hyd_energy, \"PJ\")\n"
   ]
  },
  {
   "cell_type": "code",
   "execution_count": 9,
   "metadata": {},
   "outputs": [
    {
     "name": "stdout",
     "output_type": "stream",
     "text": [
      "CRIPROHYD:  47.28600280326362 PJ\n"
     ]
    }
   ],
   "source": [
    "\"\"\"Method 2: Instantiate and index object.\"\"\"\n",
    "\n",
    "import reslac\n",
    "res = reslac.EnergyMatrix()\n",
    "techs = res.build_RES()\n",
    "\n",
    "# Instantiate supply kind of technology\n",
    "sup_tech = reslac.Primary_Tech(label=\"PRO\",\n",
    "                               region=\"CRI\",\n",
    "                               category=\"SUP\")\n",
    "# Instantiate HYD as primary fuel\n",
    "fuel_hyd = reslac.Primary_Fuel(code=\"HYD\",\n",
    "                               energy=0.0,\n",
    "                               region=\"CRI\")\n",
    "# Index output HYD fuel\n",
    "out_prim_fuels = (techs[techs.index(sup_tech)]\n",
    "                  .out_fuels)\n",
    "hyd_energy = (out_prim_fuels[out_prim_fuels.index(fuel_hyd)]\n",
    "              .energy_PJ)\n",
    "\n",
    "print(\"CRIPROHYD: \", hyd_energy, \"PJ\")"
   ]
  }
 ],
 "metadata": {
  "kernelspec": {
   "display_name": "Python 3 (ipykernel)",
   "language": "python",
   "name": "python3"
  },
  "language_info": {
   "codemirror_mode": {
    "name": "ipython",
    "version": 3
   },
   "file_extension": ".py",
   "mimetype": "text/x-python",
   "name": "python",
   "nbconvert_exporter": "python",
   "pygments_lexer": "ipython3",
   "version": "3.12.0"
  }
 },
 "nbformat": 4,
 "nbformat_minor": 4
}
