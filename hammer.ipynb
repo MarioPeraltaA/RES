{
 "cells": [
  {
   "cell_type": "markdown",
   "metadata": {},
   "source": [
    "### Data processor and shaper of Energy Balance Matrix.\n",
    "\n",
    "> This module integrates the Latin America and Caribbean Energy Balance Matrix and sort out its data in a OSeMOSYS model structure. According to the naming convention used by OSeMOSYS a 3-letter country abbreviation will be adopted and added at the tail of the code (label) as follows:\n",
    "\n",
    "    [category][sector][fuel/commodity][###][region]\n",
    "\n",
    "e.g. for \"Crude oil extraction\" kind of technology in \"Argentina\" the generic convention label is: `MINCRUARG`\n",
    "\n",
    "---\n",
    "Author: Mario R. Peralta. A. <br>\n",
    "School of Electrical Engineering, University of Costa Rica. <br>\n",
    "The Electric Power and Energy Research Laboratory (EPERLab)\n",
    "\n",
    "---\n",
    "\n",
    "\n"
   ]
  },
  {
   "cell_type": "markdown",
   "metadata": {},
   "source": [
    "Example of implementation the `resLAC` module: Filtering technologies per regions."
   ]
  },
  {
   "cell_type": "code",
   "execution_count": 1,
   "metadata": {},
   "outputs": [],
   "source": [
    "import resLAC\n",
    "\n",
    "RES = resLAC.EnergyMatrix()\n",
    "techs = RES.data_RES()\n"
   ]
  },
  {
   "cell_type": "markdown",
   "metadata": {},
   "source": [
    "Retrieve input fuel to refineries technonoly, throughout contries:"
   ]
  },
  {
   "cell_type": "code",
   "execution_count": 2,
   "metadata": {},
   "outputs": [
    {
     "name": "stdout",
     "output_type": "stream",
     "text": [
      "{'CRU'}\n"
     ]
    }
   ],
   "source": [
    "in_refs = [r.in_fuels for r in techs if r.code == \"REF\"]\n",
    "nonzeros = []\n",
    "for fuels in in_refs:\n",
    "    for fuel in fuels:\n",
    "        if fuel.energy_PJ:\n",
    "            nonzeros.append(fuel)\n",
    "\n",
    "codes = set([n.code for n in nonzeros])\n",
    "print(codes)"
   ]
  },
  {
   "cell_type": "markdown",
   "metadata": {},
   "source": [
    "Retrieve output fuel throughout contries of the same technology:"
   ]
  },
  {
   "cell_type": "code",
   "execution_count": 3,
   "metadata": {},
   "outputs": [
    {
     "name": "stdout",
     "output_type": "stream",
     "text": [
      "{'OSE', 'COK', 'NEN', 'GAS', 'KER', 'HFO', 'DSL', 'GSL', 'LPG'}\n"
     ]
    }
   ],
   "source": [
    "out_refs = [r.out_fuels for r in techs if r.code == \"REF\"]\n",
    "nonzeros = []\n",
    "for fuels in out_refs:\n",
    "    for fuel in fuels:\n",
    "        if fuel.energy_PJ:\n",
    "            nonzeros.append(fuel)\n",
    "\n",
    "codes = set([n.code for n in nonzeros])\n",
    "print(codes)"
   ]
  },
  {
   "cell_type": "code",
   "execution_count": 4,
   "metadata": {},
   "outputs": [
    {
     "name": "stdout",
     "output_type": "stream",
     "text": [
      "{'COA001', 'OSE', 'COK'}\n"
     ]
    }
   ],
   "source": [
    "in_refs = [r.in_fuels for r in techs if r.code == \"BOI\"]\n",
    "nonzeros = []\n",
    "for fuels in in_refs:\n",
    "    for fuel in fuels:\n",
    "        if fuel.energy_PJ:\n",
    "            nonzeros.append(fuel)\n",
    "\n",
    "codes = set([n.code for n in nonzeros])\n",
    "print(codes)"
   ]
  },
  {
   "cell_type": "code",
   "execution_count": 5,
   "metadata": {},
   "outputs": [
    {
     "name": "stdout",
     "output_type": "stream",
     "text": [
      "{'OSE', 'GAS', 'NEN', 'COK'}\n"
     ]
    }
   ],
   "source": [
    "out_refs = [r.out_fuels for r in techs if r.code == \"BOI\"]\n",
    "nonzeros = []\n",
    "for fuels in out_refs:\n",
    "    for fuel in fuels:\n",
    "        if fuel.energy_PJ:\n",
    "            nonzeros.append(fuel)\n",
    "\n",
    "codes = set([n.code for n in nonzeros])\n",
    "print(codes)"
   ]
  },
  {
   "cell_type": "markdown",
   "metadata": {},
   "source": [
    "Initial RES, potential intances only:"
   ]
  },
  {
   "cell_type": "code",
   "execution_count": 1,
   "metadata": {},
   "outputs": [
    {
     "name": "stdout",
     "output_type": "stream",
     "text": [
      "[(CRU, ARG)]\n",
      "[(OSE, ARG), (HFO, ARG), (NEN, ARG), (DSL, ARG), (COK, ARG), (GAS, ARG), (LPG, ARG), (KER, ARG), (GSL, ARG)]\n"
     ]
    }
   ],
   "source": [
    "import resLAC\n",
    "RES = resLAC.EnergyMatrix()\n",
    "itecs = RES.initital_RES()\n",
    "iref_arg = [t for t in itecs if t.region == \"ARG\"\n",
    "            and t.code == \"REF\"]\n",
    "print(iref_arg[0].in_fuels)\n",
    "print(iref_arg[0].out_fuels)\n"
   ]
  },
  {
   "cell_type": "markdown",
   "metadata": {},
   "source": [
    "Update fuels flow:"
   ]
  },
  {
   "cell_type": "code",
   "execution_count": 2,
   "metadata": {},
   "outputs": [
    {
     "name": "stdout",
     "output_type": "stream",
     "text": [
      "[(COK, ARG), (GAS, ARG), (NEN, ARG), (COA001, ARG)]\n",
      "[(COK, ARG), (GAS, ARG), (NEN, ARG)]\n",
      "[('In', 'COK', -28.31549019983542), ('In', 'GAS', 0), ('In', 'NEN', 0), ('In', 'COA001', -29.415843701417185), ('Out', 'COK', 0), ('Out', 'GAS', 29.09728931340275), ('Out', 'NEN', 24.056066879955736)]\n"
     ]
    }
   ],
   "source": [
    "import resLAC\n",
    "RES = resLAC.EnergyMatrix()\n",
    "techs = RES.build_RES()\n",
    "\n",
    "ref_arg = [t for t in techs if t.region == \"ARG\"\n",
    "            and t.code == \"BOI\"]\n",
    "print(ref_arg[0].in_fuels)\n",
    "print(ref_arg[0].out_fuels)\n",
    "\n",
    "vals_PJ = []\n",
    "for f in ref_arg[0].in_fuels:\n",
    "    vals_PJ.append((\"In\", f.code, f.energy_PJ))\n",
    "for f in ref_arg[0].out_fuels:\n",
    "    vals_PJ.append((\"Out\", f.code, f.energy_PJ))\n",
    "\n",
    "print(vals_PJ)"
   ]
  }
 ],
 "metadata": {
  "kernelspec": {
   "display_name": "Python 3 (ipykernel)",
   "language": "python",
   "name": "python3"
  },
  "language_info": {
   "codemirror_mode": {
    "name": "ipython",
    "version": 3
   },
   "file_extension": ".py",
   "mimetype": "text/x-python",
   "name": "python",
   "nbconvert_exporter": "python",
   "pygments_lexer": "ipython3",
   "version": "3.12.0"
  }
 },
 "nbformat": 4,
 "nbformat_minor": 4
}
